{
 "cells": [
  {
   "cell_type": "code",
   "execution_count": 1,
   "metadata": {
    "collapsed": false
   },
   "outputs": [],
   "source": [
    "import cv2\n",
    "import numpy as np\n",
    "import fer2013_eval_bc2\n",
    "\n",
    "face_cascade = cv2.CascadeClassifier('./haarcascade_frontalface_alt.xml')\n",
    "\n",
    "if face_cascade.empty():\n",
    "    raise IOError('Unable to load the face cascade classifier xml file')\n",
    "\n",
    "cap = cv2.VideoCapture(0)\n",
    "scaling_factor = 0.5\n",
    "cur_char = -1\n",
    "\n",
    "while True:\n",
    "    ret, frame = cap.read()\n",
    "    frame = cv2.resize(frame, None, fx=scaling_factor, fy=scaling_factor, interpolation=cv2.INTER_AREA)\n",
    "    gray = cv2.cvtColor(frame, cv2.COLOR_BGR2GRAY)\n",
    "\n",
    "    face_rects = face_cascade.detectMultiScale(gray, 1.3, 5)\n",
    "    \n",
    "    rois = frame\n",
    "    \n",
    "    for (x,y,w,h) in face_rects:\n",
    "        cv2.rectangle(frame, (x,y), (x+w,y+h), (0,255,0), 3)\n",
    "        rois = frame[y:y+h, x:x+w]\n",
    " #       rois.append(roi)\n",
    "    cv2.imshow('Face Detector', frame)\n",
    "    \n",
    "    c = cv2.waitKey(1)\n",
    "        \n",
    "    if c == 27:\n",
    "        break \n",
    "    cv2.imshow('Face Detector_roi', rois)\n",
    "    emotion_dict = {0: 'Angry', 1: 'Fear', 2: 'Happy', 3: 'Sad'}\n",
    "    if c == ord('s'):\n",
    "        frame_roi = cv2.resize(rois, (48, 48), interpolation=cv2.INTER_AREA)\n",
    "        cv2.imshow('Resized_shot', frame_roi)\n",
    "        cv2.imwrite(\"./saved_frame.png\", frame_roi)\n",
    "       \n",
    "\n",
    "        mc, result1 = fer2013_eval_bc2.evaluate(frame_roi)\n",
    "        \n",
    "       \n",
    "        for (x,y,w,h) in face_rects:\n",
    "            cv2.putText(frame, emotion_dict[mc[0]], (x, y+h), cv2.FONT_HERSHEY_SIMPLEX, 1, (255, 0, 0), 2)\n",
    "            cv2.imshow('Face Detector2', frame)\n",
    "cap.release()\n",
    "cv2.destroyAllWindows()\n",
    "exit()"
   ]
  },
  {
   "cell_type": "code",
   "execution_count": null,
   "metadata": {
    "collapsed": false
   },
   "outputs": [
    {
     "name": "stderr",
     "output_type": "stream",
     "text": [
      "WARNING:tensorflow:Passing a `GraphDef` to the SummaryWriter is deprecated. Pass a `Graph` object instead, such as `sess.graph`.\n"
     ]
    },
    {
     "name": "stdout",
     "output_type": "stream",
     "text": [
      "-----------------------------------------------------\n",
      "LABEL FOR INPUT IMAGE: [[ 5.52559042  0.48014143  4.6566782   0.13445881 -3.58980417 -3.58715248\n",
      "  -3.59094572]] -> [0] Angry\n",
      "-----------------------------------------------------\n"
     ]
    },
    {
     "name": "stderr",
     "output_type": "stream",
     "text": [
      "WARNING:tensorflow:Passing a `GraphDef` to the SummaryWriter is deprecated. Pass a `Graph` object instead, such as `sess.graph`.\n"
     ]
    },
    {
     "name": "stdout",
     "output_type": "stream",
     "text": [
      "-----------------------------------------------------\n",
      "LABEL FOR INPUT IMAGE: [[  2.06864166   0.77633309  11.58825302  -0.48429888  -4.62552023\n",
      "   -4.62923336  -4.62060595]] -> [2] Happy\n",
      "-----------------------------------------------------\n"
     ]
    },
    {
     "name": "stderr",
     "output_type": "stream",
     "text": [
      "WARNING:tensorflow:Passing a `GraphDef` to the SummaryWriter is deprecated. Pass a `Graph` object instead, such as `sess.graph`.\n"
     ]
    },
    {
     "name": "stdout",
     "output_type": "stream",
     "text": [
      "-----------------------------------------------------\n",
      "LABEL FOR INPUT IMAGE: [[ 1.36481786  4.20181894  5.27543306  5.69119501 -5.48251104 -5.49471569\n",
      "  -5.48317671]] -> [3] Sad\n",
      "-----------------------------------------------------\n"
     ]
    },
    {
     "name": "stderr",
     "output_type": "stream",
     "text": [
      "WARNING:tensorflow:Passing a `GraphDef` to the SummaryWriter is deprecated. Pass a `Graph` object instead, such as `sess.graph`.\n"
     ]
    },
    {
     "name": "stdout",
     "output_type": "stream",
     "text": [
      "-----------------------------------------------------\n",
      "LABEL FOR INPUT IMAGE: [[  1.43583322   0.89105207  11.66802502  -0.6895746   -4.40447521\n",
      "   -4.41292953  -4.41105175]] -> [2] Happy\n",
      "-----------------------------------------------------\n"
     ]
    },
    {
     "name": "stderr",
     "output_type": "stream",
     "text": [
      "WARNING:tensorflow:Passing a `GraphDef` to the SummaryWriter is deprecated. Pass a `Graph` object instead, such as `sess.graph`.\n"
     ]
    },
    {
     "name": "stdout",
     "output_type": "stream",
     "text": [
      "-----------------------------------------------------\n",
      "LABEL FOR INPUT IMAGE: [[ 4.63973427  4.99655437  0.67005134  2.62626004 -4.30633974 -4.3048954\n",
      "  -4.29746723]] -> [1] Fear\n",
      "-----------------------------------------------------\n"
     ]
    },
    {
     "name": "stderr",
     "output_type": "stream",
     "text": [
      "WARNING:tensorflow:Passing a `GraphDef` to the SummaryWriter is deprecated. Pass a `Graph` object instead, such as `sess.graph`.\n"
     ]
    },
    {
     "name": "stdout",
     "output_type": "stream",
     "text": [
      "-----------------------------------------------------\n",
      "LABEL FOR INPUT IMAGE: [[ 4.42797518  2.96692419  2.2260592   0.57346559 -3.3920145  -3.38529301\n",
      "  -3.38956475]] -> [0] Angry\n",
      "-----------------------------------------------------\n"
     ]
    },
    {
     "name": "stderr",
     "output_type": "stream",
     "text": [
      "WARNING:tensorflow:Passing a `GraphDef` to the SummaryWriter is deprecated. Pass a `Graph` object instead, such as `sess.graph`.\n"
     ]
    },
    {
     "name": "stdout",
     "output_type": "stream",
     "text": [
      "-----------------------------------------------------\n",
      "LABEL FOR INPUT IMAGE: [[ 6.48794174 -0.78692114  4.89357758  1.17336285 -3.90529537 -3.90385461\n",
      "  -3.91069388]] -> [0] Angry\n",
      "-----------------------------------------------------\n"
     ]
    },
    {
     "name": "stderr",
     "output_type": "stream",
     "text": [
      "WARNING:tensorflow:Passing a `GraphDef` to the SummaryWriter is deprecated. Pass a `Graph` object instead, such as `sess.graph`.\n"
     ]
    },
    {
     "name": "stdout",
     "output_type": "stream",
     "text": [
      "-----------------------------------------------------\n",
      "LABEL FOR INPUT IMAGE: [[ 2.19562745  7.6593399   0.83641684  2.74549294 -4.47083235 -4.47521257\n",
      "  -4.46074152]] -> [1] Fear\n",
      "-----------------------------------------------------\n"
     ]
    }
   ],
   "source": [
    "import sys\n",
    "import cv2\n",
    "import numpy as np\n",
    "import fer2013_eval_bc2\n",
    "\n",
    "face_cascade = cv2.CascadeClassifier('./haarcascade_frontalface_alt.xml')\n",
    "\n",
    "if face_cascade.empty():\n",
    "    raise IOError('Unable to load the face cascade classifier xml file')\n",
    "\n",
    "cap = cv2.VideoCapture(0)\n",
    "scaling_factor = 0.5\n",
    "cur_char = False\n",
    "\n",
    "while True:\n",
    "    ret, frame = cap.read()\n",
    "    frame = cv2.resize(frame, None, fx=scaling_factor, fy=scaling_factor, interpolation=cv2.INTER_AREA)\n",
    "    gray = cv2.cvtColor(frame, cv2.COLOR_BGR2GRAY)\n",
    "\n",
    "    face_rects = face_cascade.detectMultiScale(gray, 1.3, 5)\n",
    "    \n",
    "    rois = []\n",
    "    roi = frame\n",
    "    \n",
    "    for (x,y,w,h) in face_rects:\n",
    "        cv2.rectangle(frame, (x,y), (x+w,y+h), (0,255,0), 3)\n",
    "        roi = frame[y:y+h, x:x+w]\n",
    "        rois.append(roi)\n",
    "       \n",
    "        if (cur_char):\n",
    "            cv2.putText(frame2, emotion_dict[mc[0]], (x, y+h), cv2.FONT_HERSHEY_SIMPLEX, 1, (255, 0, 0), 2)\n",
    "            cv2.imshow('Face Detector2', frame2)\n",
    "    cv2.imshow('Face Detector', frame)\n",
    "    \n",
    "    frame2 = frame\n",
    "    c = cv2.waitKey(1)\n",
    "        \n",
    "    if c == 27:\n",
    "        break \n",
    "    cv2.imshow('Face Detector_roi', roi)\n",
    "    emotion_dict = {0: 'Angry', 1: 'Fear', 2: 'Happy', 3: 'Sad'}\n",
    "    if c == ord('s'):\n",
    "        frame_roi = cv2.resize(roi, (48, 48), interpolation=cv2.INTER_AREA)\n",
    "        cv2.imshow('Resized_shot', frame_roi)\n",
    "        cv2.imwrite(\"./saved_frame.png\", frame_roi)\n",
    "       \n",
    "\n",
    "        mc, result1 = fer2013_eval_bc2.evaluate(frame_roi)\n",
    "        cur_char = True \n",
    "   \n",
    "cap.release()\n",
    "cv2.destroyAllWindows()\n",
    "quit()"
   ]
  },
  {
   "cell_type": "code",
   "execution_count": null,
   "metadata": {
    "collapsed": true
   },
   "outputs": [],
   "source": []
  },
  {
   "cell_type": "code",
   "execution_count": null,
   "metadata": {
    "collapsed": true
   },
   "outputs": [],
   "source": []
  }
 ],
 "metadata": {
  "anaconda-cloud": {},
  "kernelspec": {
   "display_name": "Python [conda root]",
   "language": "python",
   "name": "conda-root-py"
  },
  "language_info": {
   "codemirror_mode": {
    "name": "ipython",
    "version": 2
   },
   "file_extension": ".py",
   "mimetype": "text/x-python",
   "name": "python",
   "nbconvert_exporter": "python",
   "pygments_lexer": "ipython2",
   "version": "2.7.12"
  }
 },
 "nbformat": 4,
 "nbformat_minor": 0
}
