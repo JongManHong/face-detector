{
 "cells": [
  {
   "cell_type": "code",
   "execution_count": 1,
   "metadata": {
    "collapsed": false
   },
   "outputs": [],
   "source": [
    "import sys\n",
    "import cv2\n",
    "import numpy as np\n",
    "import fer2013_eval_bc2\n",
    "\n",
    "face_cascade = cv2.CascadeClassifier('./haarcascade_frontalface_alt.xml')\n",
    "\n",
    "if face_cascade.empty():\n",
    "    raise IOError('Unable to load the face cascade classifier xml file')\n",
    "\n",
    "cap = cv2.imread(\"muli_face3.jpg\")\n",
    "scaling_factor = 0.5\n",
    "cur_char = False\n",
    "\n",
    "while True:\n",
    "    frame = cap\n",
    "    frame = cv2.resize(frame, None, fx=scaling_factor, fy=scaling_factor, interpolation=cv2.INTER_AREA)\n",
    "    gray = cv2.cvtColor(frame, cv2.COLOR_BGR2GRAY)\n",
    "    equilzed_gray = cv2.equalizeHist(gray)\n",
    "    face_rects = face_cascade.detectMultiScale(equilzed_gray, 1.3, 5)\n",
    "    \n",
    "    rois = []\n",
    "    \n",
    "    \n",
    "    for (x,y,w,h) in face_rects:\n",
    "        cv2.rectangle(frame, (x,y), (x+w,y+h), (0,255,0), 3)\n",
    "        roi = frame[y:y+h, x:x+w]\n",
    "        rois.append(roi)\n",
    "       \n",
    "        if (cur_char):\n",
    "            cv2.putText(frame2, emotion_dict[0], (x, y+h), cv2.FONT_HERSHEY_SIMPLEX, 1, (255, 0, 0), 2)\n",
    "            cv2.imshow('Face Detector2', frame2)\n",
    "    cv2.imshow('Face Detector', frame)\n",
    "    \n",
    "    frame2 = frame\n",
    "    c = cv2.waitKey(1)\n",
    "        \n",
    "    if c == 27:\n",
    "        break \n",
    "    cv2.imshow('Face Detector_roi', roi)\n",
    "    emotion_dict = {0: 'Angry', 1: 'Fear', 2: 'Happy', 3: 'Sad'}\n",
    "    if c == ord('s'):\n",
    "                 \n",
    "        for face in rois:\n",
    "     #       cv2.imshow(shot-i', rois[i])\n",
    "            frame_rois = []\n",
    "                       \n",
    "            frame_rois.append(cv2.resize(face, (48, 48), interpolation=cv2.INTER_AREA))\n",
    "            mc, result1 = fer2013_eval_bc3.evaluate(frame_roi)\n",
    "            \n",
    "        for face in frame_rois:\n",
    "            cv2.imshow('Resized_shot-i', face) \n",
    "     #       cv2.imwrite(\"./saved_frame.png\", frame_rois)\n",
    "       \n",
    "\n",
    "        \n",
    "        cur_char = True \n",
    "   \n",
    "#cap.release()\n",
    "cv2.destroyAllWindows()\n",
    "quit()"
   ]
  },
  {
   "cell_type": "code",
   "execution_count": null,
   "metadata": {
    "collapsed": true
   },
   "outputs": [],
   "source": []
  },
  {
   "cell_type": "code",
   "execution_count": null,
   "metadata": {
    "collapsed": true
   },
   "outputs": [],
   "source": []
  }
 ],
 "metadata": {
  "anaconda-cloud": {},
  "kernelspec": {
   "display_name": "Python [conda root]",
   "language": "python",
   "name": "conda-root-py"
  },
  "language_info": {
   "codemirror_mode": {
    "name": "ipython",
    "version": 2
   },
   "file_extension": ".py",
   "mimetype": "text/x-python",
   "name": "python",
   "nbconvert_exporter": "python",
   "pygments_lexer": "ipython2",
   "version": "2.7.12"
  }
 },
 "nbformat": 4,
 "nbformat_minor": 0
}
