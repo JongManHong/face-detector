{
 "cells": [
  {
   "cell_type": "code",
   "execution_count": 1,
   "metadata": {
    "collapsed": false
   },
   "outputs": [
    {
     "name": "stderr",
     "output_type": "stream",
     "text": [
      "WARNING:tensorflow:Passing a `GraphDef` to the SummaryWriter is deprecated. Pass a `Graph` object instead, such as `sess.graph`.\n"
     ]
    },
    {
     "name": "stdout",
     "output_type": "stream",
     "text": [
      "-----------------------------------------------------\n",
      "LABEL FOR INPUT IMAGE: [[ 1.18505335  3.67335367  2.63062763  9.21411037 -5.54602528 -5.56128788\n",
      "  -5.54042721]] -> [3] Sad\n",
      "-----------------------------------------------------\n"
     ]
    }
   ],
   "source": [
    "import sys\n",
    "import cv2\n",
    "import numpy as np\n",
    "import fer2013_eval_bc2\n",
    "\n",
    "face_cascade = cv2.CascadeClassifier('./haarcascade_frontalface_alt.xml')\n",
    "\n",
    "if face_cascade.empty():\n",
    "    raise IOError('Unable to load the face cascade classifier xml file')\n",
    "\n",
    "cap = cv2.VideoCapture(0)\n",
    "scaling_factor = 0.5\n",
    "cur_char = False\n",
    "\n",
    "while True:\n",
    "    ret, frame = cap.read()\n",
    "    frame = cv2.resize(frame, None, fx=scaling_factor, fy=scaling_factor, interpolation=cv2.INTER_AREA)\n",
    "    gray = cv2.cvtColor(frame, cv2.COLOR_BGR2GRAY)\n",
    "\n",
    "    face_rects = face_cascade.detectMultiScale(gray, 1.3, 5)\n",
    "    \n",
    "    rois = []\n",
    "    roi = frame\n",
    "    \n",
    "    for (x,y,w,h) in face_rects:\n",
    "        cv2.rectangle(frame, (x,y), (x+w,y+h), (0,255,0), 3)\n",
    "        roi = frame[y:y+h, x:x+w]\n",
    "        rois.append(roi)\n",
    "       \n",
    "        if (cur_char):\n",
    "            cv2.putText(frame2, emotion_dict[mc[0]], (x, y+h), cv2.FONT_HERSHEY_SIMPLEX, 1, (255, 0, 0), 2)\n",
    "            cv2.imshow('Face Detector2', frame2)\n",
    "    cv2.imshow('Face Detector', frame)\n",
    "    \n",
    "    frame2 = frame\n",
    "    c = cv2.waitKey(1)\n",
    "        \n",
    "    if c == 27:\n",
    "        break \n",
    "    cv2.imshow('Face Detector_roi', roi)\n",
    "    emotion_dict = {0: 'Angry', 1: 'Fear', 2: 'Happy', 3: 'Sad'}\n",
    "    if c == ord('s'):\n",
    "        frame_roi = cv2.resize(roi, (48, 48), interpolation=cv2.INTER_AREA)\n",
    "        cv2.imshow('Resized_shot', frame_roi)\n",
    "        cv2.imwrite(\"./saved_frame.png\", frame_roi)\n",
    "       \n",
    "\n",
    "        mc, result1 = fer2013_eval_bc2.evaluate(frame_roi)\n",
    "        cur_char = True \n",
    "   \n",
    "cap.release()\n",
    "cv2.destroyAllWindows()\n",
    "quit()"
   ]
  },
  {
   "cell_type": "code",
   "execution_count": null,
   "metadata": {
    "collapsed": true
   },
   "outputs": [],
   "source": []
  },
  {
   "cell_type": "code",
   "execution_count": null,
   "metadata": {
    "collapsed": true
   },
   "outputs": [],
   "source": []
  }
 ],
 "metadata": {
  "anaconda-cloud": {},
  "kernelspec": {
   "display_name": "Python [default]",
   "language": "python",
   "name": "python2"
  },
  "language_info": {
   "codemirror_mode": {
    "name": "ipython",
    "version": 2
   },
   "file_extension": ".py",
   "mimetype": "text/x-python",
   "name": "python",
   "nbconvert_exporter": "python",
   "pygments_lexer": "ipython2",
   "version": "2.7.12"
  }
 },
 "nbformat": 4,
 "nbformat_minor": 0
}
